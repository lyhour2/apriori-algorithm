{
 "cells": [
  {
   "cell_type": "code",
   "execution_count": 1,
   "metadata": {},
   "outputs": [],
   "source": [
    "# Step 1: Install mlxtend if not already installed\n",
    "# pip install mlxtend\n",
    "\n",
    "# Step 2: Import necessary libraries\n",
    "import pandas as pd\n",
    "from mlxtend.frequent_patterns import apriori, association_rules"
   ]
  },
  {
   "cell_type": "code",
   "execution_count": 2,
   "metadata": {},
   "outputs": [],
   "source": [
    "\n",
    "# Step 3: Define the transaction data\n",
    "transactions = [\n",
    "    [\"Milk\", \"Bread\", \"Butter\"],\n",
    "    [\"Bread\", \"Coffee\", \"Butter\"],\n",
    "    [\"Milk\", \"Bread\", \"Coffee\"],\n",
    "    [\"Milk\", \"Bread\", \"Butter\"],\n",
    "    [\"Coffee\", \"Butter\"]\n",
    "]"
   ]
  },
  {
   "cell_type": "code",
   "execution_count": 3,
   "metadata": {},
   "outputs": [],
   "source": [
    "\n",
    "# Step 4: Create a transaction matrix (binary format)\n",
    "# Convert to a DataFrame where columns are items and rows are transactions\n",
    "all_items = sorted(set(item for transaction in transactions for item in transaction))\n",
    "transaction_matrix = pd.DataFrame(0, index=range(len(transactions)), columns=all_items)\n",
    "\n",
    "for i, transaction in enumerate(transactions):\n",
    "    for item in transaction:\n",
    "        transaction_matrix.at[i, item] = 1"
   ]
  },
  {
   "cell_type": "code",
   "execution_count": 4,
   "metadata": {},
   "outputs": [
    {
     "name": "stderr",
     "output_type": "stream",
     "text": [
      "/Users/macbookpro/.pyenv/versions/3.9.6/lib/python3.9/site-packages/mlxtend/frequent_patterns/fpcommon.py:161: DeprecationWarning: DataFrames with non-bool types result in worse computationalperformance and their support might be discontinued in the future.Please use a DataFrame with bool type\n",
      "  warnings.warn(\n"
     ]
    }
   ],
   "source": [
    "\n",
    "# Step 5: Calculate the frequent itemsets with minimum support of 3\n",
    "frequent_itemsets = apriori(transaction_matrix, min_support=3/5, use_colnames=True)"
   ]
  },
  {
   "cell_type": "code",
   "execution_count": 5,
   "metadata": {},
   "outputs": [
    {
     "name": "stdout",
     "output_type": "stream",
     "text": [
      "1-itemset Support Counts:\n",
      "   support         itemsets\n",
      "0      0.8          (Bread)\n",
      "1      0.8         (Butter)\n",
      "2      0.6         (Coffee)\n",
      "3      0.6           (Milk)\n",
      "4      0.6  (Butter, Bread)\n",
      "5      0.6    (Milk, Bread)\n",
      "\n",
      "Frequent 1-itemsets (Minimum Support = 3):\n",
      "   support  itemsets\n",
      "0      0.8   (Bread)\n",
      "1      0.8  (Butter)\n",
      "2      0.6  (Coffee)\n",
      "3      0.6    (Milk)\n",
      "\n",
      "2-itemset Support Counts:\n",
      "   support         itemsets\n",
      "4      0.6  (Butter, Bread)\n",
      "5      0.6    (Milk, Bread)\n",
      "\n",
      "Frequent 2-itemsets (Minimum Support = 3):\n",
      "   support         itemsets\n",
      "4      0.6  (Butter, Bread)\n",
      "5      0.6    (Milk, Bread)\n"
     ]
    }
   ],
   "source": [
    "\n",
    "# Step 6: Print the support count of each item (1-itemsets)\n",
    "print(\"1-itemset Support Counts:\")\n",
    "print(frequent_itemsets)\n",
    "\n",
    "# Step 7: Filter frequent 1-itemsets\n",
    "print(\"\\nFrequent 1-itemsets (Minimum Support = 3):\")\n",
    "frequent_1_itemsets = frequent_itemsets[frequent_itemsets['itemsets'].apply(len) == 1]\n",
    "print(frequent_1_itemsets)\n",
    "\n",
    "# Step 8: Generate all possible 2-itemsets and print their support\n",
    "print(\"\\n2-itemset Support Counts:\")\n",
    "frequent_2_itemsets = frequent_itemsets[frequent_itemsets['itemsets'].apply(len) == 2]\n",
    "print(frequent_2_itemsets)\n",
    "\n",
    "# Step 9: Identify frequent 2-itemsets (minimum support of 3)\n",
    "frequent_2_itemsets_filtered = frequent_2_itemsets[frequent_2_itemsets['support'] >= 3/5]\n",
    "print(\"\\nFrequent 2-itemsets (Minimum Support = 3):\")\n",
    "print(frequent_2_itemsets_filtered)\n"
   ]
  }
 ],
 "metadata": {
  "kernelspec": {
   "display_name": "Python 3",
   "language": "python",
   "name": "python3"
  },
  "language_info": {
   "codemirror_mode": {
    "name": "ipython",
    "version": 3
   },
   "file_extension": ".py",
   "mimetype": "text/x-python",
   "name": "python",
   "nbconvert_exporter": "python",
   "pygments_lexer": "ipython3",
   "version": "3.9.6"
  }
 },
 "nbformat": 4,
 "nbformat_minor": 2
}
